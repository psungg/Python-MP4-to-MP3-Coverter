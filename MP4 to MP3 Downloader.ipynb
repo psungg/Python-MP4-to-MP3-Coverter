{
 "cells": [
  {
   "cell_type": "markdown",
   "id": "14dea446",
   "metadata": {},
   "source": [
    "# Youtube to mp4 downloader"
   ]
  },
  {
   "cell_type": "markdown",
   "id": "eb9dcb06",
   "metadata": {},
   "source": [
    "Pytube Library\n",
    "1. To install: Method 1: pip install pytube or method 2: pip install git+https://github.com/baxterisme/pytube\n",
    "2. To use pytube library in your code, import Youtube class\n",
    "\n",
    "        From pytube import youtube\n",
    "\n",
    "3. To create Youtube object\n",
    "\n",
    "        Youtube(\"youtubeLink\")"
   ]
  },
  {
   "cell_type": "markdown",
   "id": "bf0d96f4",
   "metadata": {},
   "source": [
    "Idea Sketching\n",
    "1. Specify Youtube link to download\n",
    "2. Create Youtube object\n",
    "3. Set the preffered stream resolution\n",
    "4. Download MP4 file\n",
    "\n",
    "Link: https://www.youtube.com/watch?v=cr4IHJIyd_8"
   ]
  },
  {
   "cell_type": "code",
   "execution_count": 3,
   "id": "3111df89",
   "metadata": {},
   "outputs": [
    {
     "name": "stdout",
     "output_type": "stream",
     "text": [
      "Requirement already satisfied: pytube in c:\\users\\psungg\\anaconda3\\lib\\site-packages (15.0.0)\n",
      "Note: you may need to restart the kernel to use updated packages.\n"
     ]
    }
   ],
   "source": [
    "pip install pytube"
   ]
  },
  {
   "cell_type": "code",
   "execution_count": 6,
   "id": "afb60565",
   "metadata": {},
   "outputs": [
    {
     "name": "stdout",
     "output_type": "stream",
     "text": [
      "Enter YouTube Link: https://www.youtube.com/watch?v=cr4IHJIyd_8\n",
      "Done! https://www.youtube.com/watch?v=cr4IHJIyd_8\n"
     ]
    }
   ],
   "source": [
    "from pytube import YouTube\n",
    "\n",
    "def YoutubeDownloader(link):\n",
    "    youtubeObject = YouTube(link)\n",
    "    youtubeObject = youtubeObject.streams.get_highest_resolution()\n",
    "    try:\n",
    "        youtubeObject.download()\n",
    "    except:\n",
    "        print(\"Some Errors Occurred\")\n",
    "    print(\"Done!\",link)\n",
    "\n",
    "#link = \"https://www.youtube.com/watch?v=cr4IHJIyd_8\"\n",
    "link = input(\"Enter YouTube Link: \")\n",
    "YoutubeDownloader(link)"
   ]
  },
  {
   "cell_type": "markdown",
   "id": "827843b4",
   "metadata": {},
   "source": [
    "# MP4-to-MP3 Coverter"
   ]
  },
  {
   "cell_type": "code",
   "execution_count": 7,
   "id": "4cedd0b3",
   "metadata": {},
   "outputs": [
    {
     "name": "stdout",
     "output_type": "stream",
     "text": [
      "Collecting moviepy\n",
      "  Downloading moviepy-1.0.3.tar.gz (388 kB)\n",
      "     ---------------------------------------- 0.0/388.3 kB ? eta -:--:--\n",
      "     ------------------------------- ------ 317.4/388.3 kB 6.5 MB/s eta 0:00:01\n",
      "     -------------------------------------- 388.3/388.3 kB 8.0 MB/s eta 0:00:00\n",
      "  Preparing metadata (setup.py): started\n",
      "  Preparing metadata (setup.py): finished with status 'done'\n",
      "Collecting decorator<5.0,>=4.0.2 (from moviepy)\n",
      "  Downloading decorator-4.4.2-py2.py3-none-any.whl (9.2 kB)\n",
      "Requirement already satisfied: tqdm<5.0,>=4.11.2 in c:\\users\\psungg\\anaconda3\\lib\\site-packages (from moviepy) (4.65.0)\n",
      "Requirement already satisfied: requests<3.0,>=2.8.1 in c:\\users\\psungg\\anaconda3\\lib\\site-packages (from moviepy) (2.29.0)\n",
      "Collecting proglog<=1.0.0 (from moviepy)\n",
      "  Downloading proglog-0.1.10-py3-none-any.whl (6.1 kB)\n",
      "Requirement already satisfied: numpy>=1.17.3 in c:\\users\\psungg\\anaconda3\\lib\\site-packages (from moviepy) (1.24.3)\n",
      "Requirement already satisfied: imageio<3.0,>=2.5 in c:\\users\\psungg\\anaconda3\\lib\\site-packages (from moviepy) (2.26.0)\n",
      "Collecting imageio_ffmpeg>=0.2.0 (from moviepy)\n",
      "  Downloading imageio_ffmpeg-0.4.8-py3-none-win_amd64.whl (22.6 MB)\n",
      "     ---------------------------------------- 0.0/22.6 MB ? eta -:--:--\n",
      "      --------------------------------------- 0.5/22.6 MB 16.2 MB/s eta 0:00:02\n",
      "     -- ------------------------------------- 1.2/22.6 MB 15.4 MB/s eta 0:00:02\n",
      "     --- ------------------------------------ 2.0/22.6 MB 16.1 MB/s eta 0:00:02\n",
      "     ----- ---------------------------------- 3.2/22.6 MB 18.7 MB/s eta 0:00:02\n",
      "     -------- ------------------------------- 4.7/22.6 MB 21.5 MB/s eta 0:00:01\n",
      "     ---------- ----------------------------- 6.0/22.6 MB 22.7 MB/s eta 0:00:01\n",
      "     ------------- -------------------------- 7.7/22.6 MB 24.8 MB/s eta 0:00:01\n",
      "     ----------------- ---------------------- 9.9/22.6 MB 27.5 MB/s eta 0:00:01\n",
      "     -------------------- ------------------ 12.0/22.6 MB 34.4 MB/s eta 0:00:01\n",
      "     ------------------------ -------------- 13.9/22.6 MB 38.5 MB/s eta 0:00:01\n",
      "     --------------------------- ----------- 16.1/22.6 MB 43.5 MB/s eta 0:00:01\n",
      "     ------------------------------ -------- 18.0/22.6 MB 43.7 MB/s eta 0:00:01\n",
      "     ---------------------------------- ---- 19.8/22.6 MB 40.9 MB/s eta 0:00:01\n",
      "     --------------------------------------  22.5/22.6 MB 46.7 MB/s eta 0:00:01\n",
      "     --------------------------------------  22.6/22.6 MB 43.7 MB/s eta 0:00:01\n",
      "     --------------------------------------- 22.6/22.6 MB 36.4 MB/s eta 0:00:00\n",
      "Requirement already satisfied: pillow>=8.3.2 in c:\\users\\psungg\\anaconda3\\lib\\site-packages (from imageio<3.0,>=2.5->moviepy) (9.4.0)\n",
      "Requirement already satisfied: charset-normalizer<4,>=2 in c:\\users\\psungg\\anaconda3\\lib\\site-packages (from requests<3.0,>=2.8.1->moviepy) (2.0.4)\n",
      "Requirement already satisfied: idna<4,>=2.5 in c:\\users\\psungg\\anaconda3\\lib\\site-packages (from requests<3.0,>=2.8.1->moviepy) (3.4)\n",
      "Requirement already satisfied: urllib3<1.27,>=1.21.1 in c:\\users\\psungg\\anaconda3\\lib\\site-packages (from requests<3.0,>=2.8.1->moviepy) (1.26.16)\n",
      "Requirement already satisfied: certifi>=2017.4.17 in c:\\users\\psungg\\anaconda3\\lib\\site-packages (from requests<3.0,>=2.8.1->moviepy) (2023.5.7)\n",
      "Requirement already satisfied: colorama in c:\\users\\psungg\\anaconda3\\lib\\site-packages (from tqdm<5.0,>=4.11.2->moviepy) (0.4.6)\n",
      "Building wheels for collected packages: moviepy\n",
      "  Building wheel for moviepy (setup.py): started\n",
      "  Building wheel for moviepy (setup.py): finished with status 'done'\n",
      "  Created wheel for moviepy: filename=moviepy-1.0.3-py3-none-any.whl size=110773 sha256=e430ff65077d3a7b9884b61937fd08649eb87e55853ad46107211e875625a8f9\n",
      "  Stored in directory: c:\\users\\psungg\\appdata\\local\\pip\\cache\\wheels\\83\\b1\\d9\\119ef7c144b44d591ec0a9a140465133c23ea95d2a161184ba\n",
      "Successfully built moviepy\n",
      "Installing collected packages: imageio_ffmpeg, decorator, proglog, moviepy\n",
      "  Attempting uninstall: decorator\n",
      "    Found existing installation: decorator 5.1.1\n",
      "    Uninstalling decorator-5.1.1:\n",
      "      Successfully uninstalled decorator-5.1.1\n",
      "Successfully installed decorator-4.4.2 imageio_ffmpeg-0.4.8 moviepy-1.0.3 proglog-0.1.10\n",
      "Note: you may need to restart the kernel to use updated packages.\n"
     ]
    }
   ],
   "source": [
    "pip install moviepy"
   ]
  },
  {
   "cell_type": "code",
   "execution_count": 8,
   "id": "6153039c",
   "metadata": {},
   "outputs": [
    {
     "name": "stdout",
     "output_type": "stream",
     "text": [
      "MoviePy - Writing audio in Carrier Landing.mp3\n"
     ]
    },
    {
     "name": "stderr",
     "output_type": "stream",
     "text": [
      "                                                                        "
     ]
    },
    {
     "name": "stdout",
     "output_type": "stream",
     "text": [
      "MoviePy - Done.\n"
     ]
    },
    {
     "name": "stderr",
     "output_type": "stream",
     "text": [
      "\r"
     ]
    }
   ],
   "source": [
    "from moviepy.editor import *\n",
    "\n",
    "mp4File = \"Perfect Carrier Landing Step-by-Step BREAKDOWN.mp4\"\n",
    "mp3File = \"Carrier Landing.mp3\"\n",
    "\n",
    "videoclip = VideoFileClip(mp4File)\n",
    "\n",
    "audioclip = videoclip.audio\n",
    "audioclip.write_audiofile(mp3File)"
   ]
  },
  {
   "cell_type": "code",
   "execution_count": null,
   "id": "eb2841e1",
   "metadata": {},
   "outputs": [],
   "source": []
  }
 ],
 "metadata": {
  "kernelspec": {
   "display_name": "Python 3 (ipykernel)",
   "language": "python",
   "name": "python3"
  },
  "language_info": {
   "codemirror_mode": {
    "name": "ipython",
    "version": 3
   },
   "file_extension": ".py",
   "mimetype": "text/x-python",
   "name": "python",
   "nbconvert_exporter": "python",
   "pygments_lexer": "ipython3",
   "version": "3.11.3"
  }
 },
 "nbformat": 4,
 "nbformat_minor": 5
}
